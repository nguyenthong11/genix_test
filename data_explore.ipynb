{
 "cells": [
  {
   "cell_type": "code",
   "execution_count": 19,
   "id": "6d8f6d16",
   "metadata": {},
   "outputs": [],
   "source": [
    "import pandas as pd\n",
    "from sklearn.feature_extraction.text import TfidfVectorizer\n",
    "from sklearn.model_selection import train_test_split\n",
    "from sklearn.preprocessing import MultiLabelBinarizer\n",
    "from sklearn.linear_model import LogisticRegression\n",
    "from sklearn.svm import SVC\n",
    "from sklearn.ensemble import RandomForestClassifier\n",
    "from sklearn.multiclass import OneVsRestClassifier\n",
    "from sklearn.metrics import classification_report\n",
    "import json\n",
    "import time\n",
    "from pprint import pprint"
   ]
  },
  {
   "cell_type": "code",
   "execution_count": 13,
   "id": "4129cdcb",
   "metadata": {},
   "outputs": [
    {
     "name": "stdout",
     "output_type": "stream",
     "text": [
      "size of dataset:  50000\n",
      "All 33 unique tags:\n",
      "['jeunes_et_ados',\n",
      " 'jeux_video',\n",
      " 'magazine_sportif',\n",
      " 'film_et_serie_d_auteur',\n",
      " 'crime',\n",
      " 'fantastique',\n",
      " 'action',\n",
      " 'football_championnat_it',\n",
      " 'meurtre',\n",
      " 'basketball',\n",
      " 'chevaux',\n",
      " 'sport_mecanique',\n",
      " 'thrillers',\n",
      " 'sports_feminins',\n",
      " 'enquete',\n",
      " 'football',\n",
      " 'comedies',\n",
      " 'films_et_series_2020s',\n",
      " 'football_championnat_port',\n",
      " 'sport_de_glisse',\n",
      " 'drames',\n",
      " 'films_et_series_2010s',\n",
      " 'combat',\n",
      " 'attirance_et_sentiments',\n",
      " 'musiciens',\n",
      " 'relations_familiales',\n",
      " 'football_championnat_uk',\n",
      " 'sport_d_hiver',\n",
      " 'sport_de_raquette',\n",
      " 'football_championnat_fr',\n",
      " 'groupe_d_amis',\n",
      " 'rugby',\n",
      " 'police']\n",
      "\n",
      "There are 6745 unique titles.\n"
     ]
    }
   ],
   "source": [
    "# Load dataset\n",
    "with open('refined_tv_data_tech_test_v3.json', 'r') as f:\n",
    "    data = json.load(f)\n",
    "print(\"size of dataset: \", len(data))\n",
    "\n",
    "all_tags = set()\n",
    "all_title = set()\n",
    "for item in data:\n",
    "    if 'tags' in item:\n",
    "        all_tags.update(list(item['tags']))\n",
    "    if 'defaultTitle' in item:\n",
    "        all_title.add(item['defaultTitle'])\n",
    "\n",
    "\n",
    "print(f\"All {len((list(all_tags)))} unique tags:\")\n",
    "pprint(list(all_tags))\n",
    "\n",
    "print(f\"\\nThere are {len(list(all_title))} unique titles.\")\n"
   ]
  },
  {
   "cell_type": "code",
   "execution_count": 14,
   "id": "858f2315",
   "metadata": {},
   "outputs": [],
   "source": [
    "df = pd.DataFrame(data)\n",
    "\n",
    "# Combine list of strings into one string\n",
    "def list_to_string(list_of_strings):\n",
    "    if isinstance(list_of_strings, list):\n",
    "      list_of_strings = [s.strip() for s in list_of_strings]\n",
    "      list_of_strings = [s.replace('\"', '').replace('«', '').replace('»', '') for s in list_of_strings]\n",
    "      list_of_strings = list(dict.fromkeys(list_of_strings))\n",
    "      return ' '.join(list_of_strings)\n",
    "    return ''\n",
    "\n",
    "df['synopsis'] = df['synopsis'].apply(list_to_string)"
   ]
  },
  {
   "cell_type": "code",
   "execution_count": 15,
   "id": "fe4fd07a",
   "metadata": {},
   "outputs": [],
   "source": [
    "# Combine title + synopsis as input text\n",
    "df[\"text\"] = df[\"defaultTitle\"] + \" \" + df[\"synopsis\"]\n",
    "\n",
    "# ----------------------------\n",
    "# 2. Preprocess labels (multi-label binarizer)\n",
    "# ----------------------------\n",
    "mlb = MultiLabelBinarizer()\n",
    "y = mlb.fit_transform(df[\"tags\"])\n",
    "\n",
    "# ----------------------------\n",
    "# 3. Feature extraction (TF-IDF)\n",
    "# ----------------------------\n",
    "vectorizer = TfidfVectorizer(max_features=5000)\n",
    "X = vectorizer.fit_transform(df[\"text\"])\n",
    "\n",
    "# ----------------------------\n",
    "# 4. Train/test split\n",
    "# ----------------------------\n",
    "X_train, X_test, y_train, y_test = train_test_split(X, y, test_size=0.3, random_state=42)"
   ]
  },
  {
   "cell_type": "markdown",
   "id": "0d10f130",
   "metadata": {},
   "source": [
    "### Linear regression"
   ]
  },
  {
   "cell_type": "code",
   "execution_count": 32,
   "id": "0fb74037",
   "metadata": {},
   "outputs": [
    {
     "name": "stdout",
     "output_type": "stream",
     "text": [
      "Training took: 1.4519792499777395 seconds\n",
      "                           precision    recall  f1-score   support\n",
      "\n",
      "                   action       1.00      0.01      0.02        82\n",
      "  attirance_et_sentiments       0.45      0.03      0.05       189\n",
      "               basketball       1.00      0.97      0.98       878\n",
      "                  chevaux       1.00      0.93      0.96       350\n",
      "                   combat       1.00      0.97      0.99      2024\n",
      "                 comedies       0.88      0.11      0.19       266\n",
      "                    crime       0.87      0.33      0.47       374\n",
      "                   drames       0.00      0.00      0.00       108\n",
      "                  enquete       0.97      0.18      0.31       212\n",
      "              fantastique       0.91      0.05      0.10       190\n",
      "   film_et_serie_d_auteur       0.60      0.04      0.07       157\n",
      "    films_et_series_2010s       0.00      0.00      0.00       202\n",
      "    films_et_series_2020s       0.33      0.00      0.01       338\n",
      "                 football       1.00      0.99      0.99      5130\n",
      "  football_championnat_fr       1.00      0.90      0.95       245\n",
      "  football_championnat_it       1.00      0.98      0.99       329\n",
      "football_championnat_port       1.00      0.99      0.99       684\n",
      "  football_championnat_uk       1.00      0.97      0.98       680\n",
      "            groupe_d_amis       1.00      0.02      0.03       127\n",
      "           jeunes_et_ados       0.93      0.07      0.13       182\n",
      "               jeux_video       1.00      0.99      1.00      1613\n",
      "         magazine_sportif       0.92      0.70      0.79       587\n",
      "                  meurtre       0.68      0.12      0.20       191\n",
      "                musiciens       1.00      0.42      0.59       291\n",
      "                   police       0.82      0.12      0.20       120\n",
      "     relations_familiales       0.67      0.24      0.36       321\n",
      "                    rugby       1.00      0.96      0.98       881\n",
      "            sport_d_hiver       1.00      0.86      0.92       357\n",
      "          sport_de_glisse       0.95      0.86      0.90       318\n",
      "        sport_de_raquette       1.00      0.97      0.98       878\n",
      "          sport_mecanique       1.00      0.91      0.95       771\n",
      "          sports_feminins       0.98      0.93      0.96      1006\n",
      "                thrillers       0.60      0.02      0.04       153\n",
      "\n",
      "                micro avg       0.99      0.81      0.89     20234\n",
      "                macro avg       0.84      0.50      0.55     20234\n",
      "             weighted avg       0.94      0.81      0.84     20234\n",
      "              samples avg       0.89      0.88      0.88     20234\n",
      "\n"
     ]
    }
   ],
   "source": [
    "# ----------------------------\n",
    "# 5. Train multi-label classifier\n",
    "# ----------------------------\n",
    "start = time.perf_counter()\n",
    "clf = OneVsRestClassifier(LogisticRegression(max_iter=1000))\n",
    "clf.fit(X_train, y_train)\n",
    "print(\"Training took:\", time.perf_counter() - start, \"seconds\")\n",
    "\n",
    "# ----------------------------\n",
    "# 6. Evaluate\n",
    "# ----------------------------\n",
    "y_pred = clf.predict(X_test)\n",
    "print(classification_report(y_test, y_pred, target_names=mlb.classes_, zero_division=0))"
   ]
  },
  {
   "cell_type": "markdown",
   "id": "d9378454",
   "metadata": {},
   "source": [
    "### Support vector machine"
   ]
  },
  {
   "cell_type": "code",
   "execution_count": null,
   "id": "8dfff7ee",
   "metadata": {},
   "outputs": [],
   "source": [
    "# ----------------------------\n",
    "# 5. Train multi-label classifier\n",
    "# ----------------------------\n",
    "start = time.perf_counter()\n",
    "clf = OneVsRestClassifier(SVC())\n",
    "clf.fit(X_train, y_train)\n",
    "print(\"Training took:\", time.perf_counter() - start, \"seconds\")\n",
    "\n",
    "# ----------------------------\n",
    "# 6. Evaluate\n",
    "# ----------------------------\n",
    "y_pred = clf.predict(X_test)\n",
    "print(classification_report(y_test, y_pred, target_names=mlb.classes_, zero_division=0))"
   ]
  },
  {
   "cell_type": "markdown",
   "id": "24ddce03",
   "metadata": {},
   "source": [
    "### Random forest"
   ]
  },
  {
   "cell_type": "code",
   "execution_count": 31,
   "id": "8263fef7",
   "metadata": {},
   "outputs": [
    {
     "name": "stdout",
     "output_type": "stream",
     "text": [
      "Training took: 131.97654004200012 seconds\n",
      "                           precision    recall  f1-score   support\n",
      "\n",
      "                   action       1.00      0.04      0.07        82\n",
      "  attirance_et_sentiments       1.00      0.01      0.01       189\n",
      "               basketball       1.00      0.99      1.00       878\n",
      "                  chevaux       1.00      0.96      0.98       350\n",
      "                   combat       1.00      0.99      0.99      2024\n",
      "                 comedies       1.00      0.04      0.07       266\n",
      "                    crime       0.91      0.29      0.44       374\n",
      "                   drames       0.00      0.00      0.00       108\n",
      "                  enquete       0.89      0.16      0.27       212\n",
      "              fantastique       1.00      0.05      0.10       190\n",
      "   film_et_serie_d_auteur       1.00      0.01      0.03       157\n",
      "    films_et_series_2010s       0.86      0.03      0.06       202\n",
      "    films_et_series_2020s       0.94      0.04      0.08       338\n",
      "                 football       1.00      0.99      1.00      5130\n",
      "  football_championnat_fr       0.98      0.94      0.96       245\n",
      "  football_championnat_it       1.00      0.97      0.98       329\n",
      "football_championnat_port       1.00      0.98      0.99       684\n",
      "  football_championnat_uk       1.00      0.97      0.98       680\n",
      "            groupe_d_amis       1.00      0.05      0.09       127\n",
      "           jeunes_et_ados       0.85      0.06      0.11       182\n",
      "               jeux_video       1.00      1.00      1.00      1613\n",
      "         magazine_sportif       0.88      0.88      0.88       587\n",
      "                  meurtre       0.91      0.15      0.26       191\n",
      "                musiciens       0.90      0.73      0.81       291\n",
      "                   police       0.91      0.08      0.15       120\n",
      "     relations_familiales       0.82      0.03      0.05       321\n",
      "                    rugby       1.00      0.99      0.99       881\n",
      "            sport_d_hiver       0.99      0.96      0.97       357\n",
      "          sport_de_glisse       0.97      0.92      0.94       318\n",
      "        sport_de_raquette       1.00      0.99      1.00       878\n",
      "          sport_mecanique       1.00      0.98      0.99       771\n",
      "          sports_feminins       0.99      0.98      0.98      1006\n",
      "                thrillers       0.00      0.00      0.00       153\n",
      "\n",
      "                micro avg       0.99      0.83      0.91     20234\n",
      "                macro avg       0.90      0.52      0.55     20234\n",
      "             weighted avg       0.97      0.83      0.85     20234\n",
      "              samples avg       0.91      0.90      0.90     20234\n",
      "\n"
     ]
    }
   ],
   "source": [
    "# ----------------------------\n",
    "# 5. Train multi-label classifier\n",
    "# ----------------------------\n",
    "start = time.perf_counter()\n",
    "clf = OneVsRestClassifier(RandomForestClassifier(max_depth=None, random_state=0))\n",
    "clf.fit(X_train, y_train)\n",
    "print(\"Training took:\", time.perf_counter() - start, \"seconds\")\n",
    "\n",
    "# ----------------------------\n",
    "# 6. Evaluate\n",
    "# ----------------------------\n",
    "y_pred = clf.predict(X_test)\n",
    "print(classification_report(y_test, y_pred, target_names=mlb.classes_, zero_division=0))"
   ]
  },
  {
   "cell_type": "code",
   "execution_count": 6,
   "id": "60f38ca0",
   "metadata": {},
   "outputs": [],
   "source": [
    "import joblib\n",
    "\n",
    "# Save model and vectorizer\n",
    "# joblib.dump(clf, \"tagging_model.pkl\")\n",
    "# joblib.dump(vectorizer, \"vectorizer.pkl\")\n",
    "# joblib.dump(mlb, \"label_binarizer.pkl\")\n",
    "\n",
    "# Load later\n",
    "clf = joblib.load(\"tagging_model.pkl\")\n",
    "vectorizer = joblib.load(\"vectorizer.pkl\")\n",
    "mlb = joblib.load(\"label_binarizer.pkl\")"
   ]
  },
  {
   "cell_type": "code",
   "execution_count": 28,
   "id": "70a75fb8",
   "metadata": {},
   "outputs": [
    {
     "name": "stdout",
     "output_type": "stream",
     "text": [
      "New videos:\n",
      "['Liga Portugal : William Gomes et le FC Porto continuent leur parcours '\n",
      " 'parfait',\n",
      " \"L'engouement pour la WNBA\",\n",
      " \"Champions Cup: le Stade Toulousain décimé, l'occasion rêvée pour l'UBB\",\n",
      " \"Champions Cup: le Stade Toulousain pour l'UBB\",\n",
      " 'A Philly, Guerschon Yabusele',\n",
      " 'Lilo & Stitch, L’histoire touchante et drôle d’une petite fille hawaïenne '\n",
      " 'solitaire et d’un extra-terrestre fugitif qui l’aide à renouer le lien avec '\n",
      " 'sa famille.',\n",
      " 'Freaky Friday dans la peau de ma mère, Veuve sur le point de se remarier, '\n",
      " \"Tess et sa fille Anna ne s'entendent pas. Un jeudi, leur rancoeur éclate. \"\n",
      " 'Deux biscuits vont tout compliquer en créant un choc mystique. Le lendemain, '\n",
      " \"Tess et Anna se retrouvent dans le corps l'une de l'autre...\",\n",
      " 'Astérix et Obélix : Mission Cléopâtre, Cléopâtre décide, pour défier '\n",
      " \"l'Empereur romain Jules César, de construire en trois mois un palais \"\n",
      " 'somptueux en plein désert. Si elle y parvient, celui-ci devra concéder que '\n",
      " 'le peuple égyptien est le plus grand de tous les peuples...']\n",
      "\n",
      "Suggested tags:\n",
      "[('football',), (), (), (), ('magazine_sportif',), (), (), ()]\n"
     ]
    }
   ],
   "source": [
    "# ----------------------------\n",
    "# 7. Inference: predict tags for a new video\n",
    "# ----------------------------\n",
    "new_videos = [\"Liga Portugal : William Gomes et le FC Porto continuent leur parcours parfait\",\n",
    "             \"L'engouement pour la WNBA\",\n",
    "              \"Champions Cup: le Stade Toulousain décimé, l'occasion rêvée pour l'UBB\",\n",
    "              \"Champions Cup: le Stade Toulousain pour l'UBB\",\n",
    "              \"A Philly, Guerschon Yabusele\",\n",
    "              \"Lilo & Stitch, L’histoire touchante et drôle d’une petite fille hawaïenne solitaire et d’un extra-terrestre fugitif qui l’aide à renouer le lien avec sa famille.\",\n",
    "              \"Freaky Friday dans la peau de ma mère, Veuve sur le point de se remarier, Tess et sa fille Anna ne s'entendent pas. Un jeudi, leur rancoeur éclate. Deux biscuits vont tout compliquer en créant un choc mystique. Le lendemain, Tess et Anna se retrouvent dans le corps l'une de l'autre...\",\n",
    "              \"Astérix et Obélix : Mission Cléopâtre, Cléopâtre décide, pour défier l'Empereur romain Jules César, de construire en trois mois un palais somptueux en plein désert. Si elle y parvient, celui-ci devra concéder que le peuple égyptien est le plus grand de tous les peuples...\",]\n",
    "X_new = vectorizer.transform(new_videos)\n",
    "preds = clf.predict(X_new)\n",
    "predicted_tags = mlb.inverse_transform(preds)\n",
    "print(\"New videos:\")\n",
    "pprint(new_videos)\n",
    "print(\"\\nSuggested tags:\")\n",
    "pprint(predicted_tags)"
   ]
  }
 ],
 "metadata": {
  "kernelspec": {
   "display_name": "py313",
   "language": "python",
   "name": "python3"
  },
  "language_info": {
   "codemirror_mode": {
    "name": "ipython",
    "version": 3
   },
   "file_extension": ".py",
   "mimetype": "text/x-python",
   "name": "python",
   "nbconvert_exporter": "python",
   "pygments_lexer": "ipython3",
   "version": "3.13.5"
  }
 },
 "nbformat": 4,
 "nbformat_minor": 5
}
