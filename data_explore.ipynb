{
 "cells": [
  {
   "cell_type": "code",
   "execution_count": 1,
   "id": "6d8f6d16",
   "metadata": {},
   "outputs": [],
   "source": [
    "import pandas as pd\n",
    "from sklearn.feature_extraction.text import TfidfVectorizer\n",
    "from sklearn.model_selection import train_test_split\n",
    "from sklearn.preprocessing import MultiLabelBinarizer\n",
    "from sklearn.linear_model import LogisticRegression\n",
    "from sklearn.svm import SVC\n",
    "from sklearn.multiclass import OneVsRestClassifier\n",
    "from sklearn.metrics import classification_report\n",
    "import json\n",
    "from pprint import pprint"
   ]
  },
  {
   "cell_type": "code",
   "execution_count": 2,
   "id": "4129cdcb",
   "metadata": {},
   "outputs": [
    {
     "name": "stdout",
     "output_type": "stream",
     "text": [
      "size of dataset:  50000\n",
      "All 33 unique tags:\n",
      "['film_et_serie_d_auteur',\n",
      " 'chevaux',\n",
      " 'sport_de_glisse',\n",
      " 'football_championnat_fr',\n",
      " 'rugby',\n",
      " 'magazine_sportif',\n",
      " 'sport_de_raquette',\n",
      " 'sport_mecanique',\n",
      " 'sport_d_hiver',\n",
      " 'football_championnat_uk',\n",
      " 'crime',\n",
      " 'police',\n",
      " 'football_championnat_port',\n",
      " 'jeux_video',\n",
      " 'basketball',\n",
      " 'combat',\n",
      " 'enquete',\n",
      " 'jeunes_et_ados',\n",
      " 'drames',\n",
      " 'groupe_d_amis',\n",
      " 'action',\n",
      " 'comedies',\n",
      " 'films_et_series_2010s',\n",
      " 'fantastique',\n",
      " 'attirance_et_sentiments',\n",
      " 'thrillers',\n",
      " 'musiciens',\n",
      " 'football',\n",
      " 'relations_familiales',\n",
      " 'sports_feminins',\n",
      " 'films_et_series_2020s',\n",
      " 'football_championnat_it',\n",
      " 'meurtre']\n",
      "\n",
      "There are 6745 unique titles.\n"
     ]
    }
   ],
   "source": [
    "import json\n",
    "\n",
    "with open('refined_tv_data_tech_test_v3.json', 'r') as f:\n",
    "    data = json.load(f)\n",
    "print(\"size of dataset: \", len(data))\n",
    "\n",
    "all_tags = set()\n",
    "all_title = set()\n",
    "for item in data:\n",
    "    if 'tags' in item:\n",
    "        all_tags.update(list(item['tags']))\n",
    "    if 'defaultTitle' in item:\n",
    "        all_title.add(item['defaultTitle'])\n",
    "\n",
    "\n",
    "print(f\"All {len((list(all_tags)))} unique tags:\")\n",
    "pprint(list(all_tags))\n",
    "\n",
    "print(f\"\\nThere are {len(list(all_title))} unique titles.\")\n"
   ]
  },
  {
   "cell_type": "code",
   "execution_count": 3,
   "id": "858f2315",
   "metadata": {},
   "outputs": [],
   "source": [
    "df = pd.DataFrame(data)\n",
    "\n",
    "# Combine list of strings into one string\n",
    "def list_to_string(list_of_strings):\n",
    "    if isinstance(list_of_strings, list):\n",
    "      list_of_strings = [s.strip() for s in list_of_strings]\n",
    "      list_of_strings = [s.replace('\"', '').replace('«', '').replace('»', '') for s in list_of_strings]\n",
    "      list_of_strings = list(dict.fromkeys(list_of_strings))\n",
    "      return ' '.join(list_of_strings)\n",
    "    return ''\n",
    "\n",
    "df['synopsis'] = df['synopsis'].apply(list_to_string)"
   ]
  },
  {
   "cell_type": "code",
   "execution_count": 6,
   "id": "fe4fd07a",
   "metadata": {},
   "outputs": [
    {
     "name": "stdout",
     "output_type": "stream",
     "text": [
      "                           precision    recall  f1-score   support\n",
      "\n",
      "                   action       1.00      0.02      0.05        82\n",
      "  attirance_et_sentiments       1.00      0.01      0.01       189\n",
      "               basketball       1.00      0.99      0.99       878\n",
      "                  chevaux       1.00      0.97      0.99       350\n",
      "                   combat       1.00      0.99      0.99      2024\n",
      "                 comedies       0.85      0.04      0.08       266\n",
      "                    crime       0.89      0.39      0.54       374\n",
      "                   drames       0.00      0.00      0.00       108\n",
      "                  enquete       0.88      0.26      0.41       212\n",
      "              fantastique       0.94      0.08      0.15       190\n",
      "   film_et_serie_d_auteur       1.00      0.01      0.01       157\n",
      "    films_et_series_2010s       1.00      0.00      0.01       202\n",
      "    films_et_series_2020s       1.00      0.02      0.04       338\n",
      "                 football       1.00      0.99      1.00      5130\n",
      "  football_championnat_fr       0.98      0.97      0.98       245\n",
      "  football_championnat_it       1.00      0.99      1.00       329\n",
      "football_championnat_port       1.00      0.99      0.99       684\n",
      "  football_championnat_uk       1.00      0.99      0.99       680\n",
      "            groupe_d_amis       1.00      0.02      0.05       127\n",
      "           jeunes_et_ados       0.94      0.09      0.16       182\n",
      "               jeux_video       1.00      1.00      1.00      1613\n",
      "         magazine_sportif       0.90      0.85      0.87       587\n",
      "                  meurtre       0.91      0.25      0.39       191\n",
      "                musiciens       0.98      0.62      0.76       291\n",
      "                   police       0.83      0.20      0.32       120\n",
      "     relations_familiales       0.70      0.27      0.39       321\n",
      "                    rugby       1.00      0.99      0.99       881\n",
      "            sport_d_hiver       1.00      0.95      0.97       357\n",
      "          sport_de_glisse       0.96      0.91      0.93       318\n",
      "        sport_de_raquette       1.00      0.99      1.00       878\n",
      "          sport_mecanique       1.00      0.97      0.98       771\n",
      "          sports_feminins       0.98      0.98      0.98      1006\n",
      "                thrillers       1.00      0.01      0.01       153\n",
      "\n",
      "                micro avg       0.99      0.84      0.91     20234\n",
      "                macro avg       0.93      0.54      0.58     20234\n",
      "             weighted avg       0.98      0.84      0.86     20234\n",
      "              samples avg       0.91      0.90      0.90     20234\n",
      "\n"
     ]
    }
   ],
   "source": [
    "# Combine title + synopsis as input text\n",
    "df[\"text\"] = df[\"defaultTitle\"] + \" \" + df[\"synopsis\"]\n",
    "\n",
    "# ----------------------------\n",
    "# 2. Preprocess labels (multi-label binarizer)\n",
    "# ----------------------------\n",
    "mlb = MultiLabelBinarizer()\n",
    "y = mlb.fit_transform(df[\"tags\"])\n",
    "\n",
    "# ----------------------------\n",
    "# 3. Feature extraction (TF-IDF)\n",
    "# ----------------------------\n",
    "vectorizer = TfidfVectorizer(max_features=5000)\n",
    "X = vectorizer.fit_transform(df[\"text\"])\n",
    "\n",
    "# ----------------------------\n",
    "# 4. Train/test split\n",
    "# ----------------------------\n",
    "X_train, X_test, y_train, y_test = train_test_split(X, y, test_size=0.3, random_state=42)\n",
    "\n",
    "# ----------------------------\n",
    "# 5. Train multi-label classifier\n",
    "# ----------------------------\n",
    "# clf = OneVsRestClassifier(LogisticRegression(max_iter=1000))\n",
    "clf = OneVsRestClassifier(SVC())\n",
    "clf.fit(X_train, y_train)\n",
    "\n",
    "# ----------------------------\n",
    "# 6. Evaluate\n",
    "# ----------------------------\n",
    "y_pred = clf.predict(X_test)\n",
    "print(classification_report(y_test, y_pred, target_names=mlb.classes_, zero_division=0))"
   ]
  },
  {
   "cell_type": "code",
   "execution_count": 7,
   "id": "60f38ca0",
   "metadata": {},
   "outputs": [],
   "source": [
    "import joblib\n",
    "\n",
    "# Save model and vectorizer\n",
    "joblib.dump(clf, \"tagging_model.pkl\")\n",
    "joblib.dump(vectorizer, \"vectorizer.pkl\")\n",
    "joblib.dump(mlb, \"label_binarizer.pkl\")\n",
    "\n",
    "# Load later\n",
    "clf = joblib.load(\"tagging_model.pkl\")\n",
    "vectorizer = joblib.load(\"vectorizer.pkl\")\n",
    "mlb = joblib.load(\"label_binarizer.pkl\")"
   ]
  },
  {
   "cell_type": "code",
   "execution_count": 11,
   "id": "70a75fb8",
   "metadata": {},
   "outputs": [
    {
     "name": "stdout",
     "output_type": "stream",
     "text": [
      "New video: ['Liga Portugal : William Gomes et le FC Porto continuent leur parcours parfait', \"L'engouement pour la WNBA\", \"Champions Cup: le Stade Toulousain décimé, l'occasion rêvée pour l'UBB\", \"Champions Cup: le Stade Toulousain pour l'UBB\", 'A Philly, Guerschon Yabusele', 'Lilo & Stitch, L’histoire touchante et drôle d’une petite fille hawaïenne solitaire et d’un extra-terrestre fugitif qui l’aide à renouer le lien avec sa famille.', \"Freaky Friday dans la peau de ma mère, Veuve sur le point de se remarier, Tess et sa fille Anna ne s'entendent pas. Un jeudi, leur rancoeur éclate. Deux biscuits vont tout compliquer en créant un choc mystique. Le lendemain, Tess et Anna se retrouvent dans le corps l'une de l'autre...\", \"Astérix et Obélix : Mission Cléopâtre, Cléopâtre décide, pour défier l'Empereur romain Jules César, de construire en trois mois un palais somptueux en plein désert. Si elle y parvient, celui-ci devra concéder que le peuple égyptien est le plus grand de tous les peuples...\"]\n",
      "Suggested tags: [('football',), ('basketball', 'sports_feminins'), (), ('rugby',), ('magazine_sportif',), ('relations_familiales',), ('relations_familiales',), ()]\n"
     ]
    }
   ],
   "source": [
    "# ----------------------------\n",
    "# 7. Inference: predict tags for a new video\n",
    "# ----------------------------\n",
    "new_videos = [\"Liga Portugal : William Gomes et le FC Porto continuent leur parcours parfait\",\n",
    "             \"L'engouement pour la WNBA\",\n",
    "              \"Champions Cup: le Stade Toulousain décimé, l'occasion rêvée pour l'UBB\",\n",
    "              \"Champions Cup: le Stade Toulousain pour l'UBB\",\n",
    "              \"A Philly, Guerschon Yabusele\",\n",
    "              \"Lilo & Stitch, L’histoire touchante et drôle d’une petite fille hawaïenne solitaire et d’un extra-terrestre fugitif qui l’aide à renouer le lien avec sa famille.\",\n",
    "              \"Freaky Friday dans la peau de ma mère, Veuve sur le point de se remarier, Tess et sa fille Anna ne s'entendent pas. Un jeudi, leur rancoeur éclate. Deux biscuits vont tout compliquer en créant un choc mystique. Le lendemain, Tess et Anna se retrouvent dans le corps l'une de l'autre...\",\n",
    "              \"Astérix et Obélix : Mission Cléopâtre, Cléopâtre décide, pour défier l'Empereur romain Jules César, de construire en trois mois un palais somptueux en plein désert. Si elle y parvient, celui-ci devra concéder que le peuple égyptien est le plus grand de tous les peuples...\",]\n",
    "X_new = vectorizer.transform(new_videos)\n",
    "preds = clf.predict(X_new)\n",
    "predicted_tags = mlb.inverse_transform(preds)\n",
    "\n",
    "print(\"New video:\", new_videos)\n",
    "print(\"Suggested tags:\", predicted_tags)"
   ]
  },
  {
   "cell_type": "code",
   "execution_count": null,
   "id": "64fef557",
   "metadata": {},
   "outputs": [],
   "source": []
  }
 ],
 "metadata": {
  "kernelspec": {
   "display_name": "genix_",
   "language": "python",
   "name": "python3"
  },
  "language_info": {
   "codemirror_mode": {
    "name": "ipython",
    "version": 3
   },
   "file_extension": ".py",
   "mimetype": "text/x-python",
   "name": "python",
   "nbconvert_exporter": "python",
   "pygments_lexer": "ipython3",
   "version": "3.11.13"
  }
 },
 "nbformat": 4,
 "nbformat_minor": 5
}
